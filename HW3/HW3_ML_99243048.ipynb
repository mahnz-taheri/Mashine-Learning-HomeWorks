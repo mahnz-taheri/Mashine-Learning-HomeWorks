{
  "nbformat": 4,
  "nbformat_minor": 0,
  "metadata": {
    "colab": {
      "provenance": []
    },
    "kernelspec": {
      "name": "python3",
      "display_name": "Python 3"
    },
    "language_info": {
      "name": "python"
    }
  },
  "cells": [
    {
      "cell_type": "code",
      "source": [
        "from google.colab import drive\n",
        "drive.mount('/content/drive')"
      ],
      "metadata": {
        "colab": {
          "base_uri": "https://localhost:8080/"
        },
        "id": "ZplBMm0ZjT9x",
        "outputId": "ba11cece-991c-460e-cd8d-1c7bac9499ec"
      },
      "execution_count": null,
      "outputs": [
        {
          "output_type": "stream",
          "name": "stdout",
          "text": [
            "Drive already mounted at /content/drive; to attempt to forcibly remount, call drive.mount(\"/content/drive\", force_remount=True).\n"
          ]
        }
      ]
    },
    {
      "cell_type": "code",
      "source": [
        "import pandas as pd\n",
        "from sklearn.model_selection import train_test_split\n",
        "from sklearn.linear_model import LogisticRegression\n",
        "from sklearn.metrics import recall_score, f1_score, accuracy_score, confusion_matrix, ConfusionMatrixDisplay\n",
        "from sklearn.preprocessing import StandardScaler, LabelEncoder, KBinsDiscretizer, OneHotEncoder\n",
        "from sklearn.compose import ColumnTransformer\n",
        "import matplotlib.pyplot as plt"
      ],
      "metadata": {
        "id": "FsPlmneskIHm"
      },
      "execution_count": null,
      "outputs": []
    },
    {
      "cell_type": "code",
      "source": [
        "# Read the data from the CSV file\n",
        "df = pd.read_csv(\"/content/drive/MyDrive/diabetes.csv\")\n",
        "\n",
        "# Drop unrealistic values\n",
        "df = df[df['Age'] >= 0]\n",
        "\n",
        "# Fill missing values with the mean of each column\n",
        "df = df.fillna(df.mean())"
      ],
      "metadata": {
        "colab": {
          "base_uri": "https://localhost:8080/"
        },
        "id": "1W7fGkw5WWth",
        "outputId": "648ed73b-79d1-4c37-f28c-71c3278b5f2c"
      },
      "execution_count": null,
      "outputs": [
        {
          "output_type": "stream",
          "name": "stderr",
          "text": [
            "<ipython-input-144-e4acecd48b30>:8: FutureWarning: The default value of numeric_only in DataFrame.mean is deprecated. In a future version, it will default to False. In addition, specifying 'numeric_only=None' is deprecated. Select only valid columns or specify the value of numeric_only to silence this warning.\n",
            "  df = df.fillna(df.mean())\n"
          ]
        }
      ]
    },
    {
      "cell_type": "code",
      "source": [
        "# Encode categorical variable 'Sex'\n",
        "label_encoder = LabelEncoder()\n",
        "df['Sex'] = label_encoder.fit_transform(df['Sex'])\n",
        "\n",
        "# Feature Engineering\n",
        "# bining\n",
        "bmi_encoder = KBinsDiscretizer(n_bins=5, encode='ordinal', strategy='uniform')\n",
        "#age_encoder = KBinsDiscretizer(n_bins=4, encode='ordinal', strategy='uniform')\n",
        "\n",
        "\n",
        "# Split the data\n",
        "X = df.drop('Outcome', axis=1)\n",
        "y = df['Outcome']\n",
        "# Split the data to train,validation and test set\n",
        "X_train, X_temp, y_train, y_temp = train_test_split(X, y, test_size=0.25, random_state=42)\n",
        "X_val, X_test, y_val, y_test = train_test_split(X_temp, y_temp, test_size=0.23, random_state=42)\n",
        "\n",
        "# Feature Scaling with ColumnTransformer\n",
        "numeric_features = ['Pregnancies', 'Glucose', 'BloodPressure', 'SkinThickness', 'Insulin', 'DiabetesPedigreeFunction']\n",
        "categorical_features = ['Sex']\n",
        "bin_age_bmi = ['Age', 'BMI']\n",
        "\n",
        "preprocessor = ColumnTransformer(\n",
        "    transformers=[\n",
        "        ('num', StandardScaler(), numeric_features),\n",
        "        ('cat', OneHotEncoder(drop='first'), categorical_features),\n",
        "        ('bin', bmi_encoder, bin_age_bmi),\n",
        "    ])\n",
        "\n",
        "X_train_scaled = preprocessor.fit_transform(X_train)\n",
        "X_val_scaled = preprocessor.transform(X_val)\n",
        "X_test_scaled = preprocessor.transform(X_test)\n",
        "\n",
        "# Model Training\n",
        "model = LogisticRegression()\n",
        "model.fit(X_train_scaled, y_train)\n",
        "\n",
        "# Model Evaluation on the training set\n",
        "train_predictions = model.predict(X_train_scaled)\n",
        "accuracy_train = recall_score(y_train, train_predictions)\n",
        "#print(\"talidation Recall:\", accuracy_train)\n",
        "\n",
        "# Model Evaluation on the validation set\n",
        "val_predictions = model.predict(X_val_scaled)\n",
        "accuracy_val = recall_score(y_val, val_predictions)\n",
        "#print(\"training Recall:\", accuracy_val)\n",
        "\n",
        "# Model Evaluation on the test set\n",
        "test_predictions = model.predict(X_test_scaled)\n",
        "accuracy_test = recall_score(y_test, test_predictions)\n",
        "print(\"Test Recall:\", accuracy_test)\n",
        "\n",
        "# Model Evaluation on the training set\n",
        "train_predictions = model.predict(X_train_scaled)\n",
        "f1_train = f1_score(y_train, train_predictions)\n",
        "#print(\"Training F1 Score:\", f1_train)\n",
        "\n",
        "# Model Evaluation on the validation set\n",
        "val_predictions = model.predict(X_val_scaled)\n",
        "f1_val = f1_score(y_val, val_predictions)\n",
        "#print(\"Validation F1 Score:\", f1_val)\n",
        "\n",
        "# Model Evaluation on the test set\n",
        "test_predictions = model.predict(X_test_scaled)\n",
        "f1_test = f1_score(y_test, test_predictions)\n",
        "print(\"Test F1 Score:\", f1_test)\n",
        "\n",
        "# Model Evaluation on the training set\n",
        "train_predictions = model.predict(X_train_scaled)\n",
        "f1_train = accuracy_score(y_train, train_predictions)\n",
        "#print(\"Training Accuracy:\", f1_train)\n",
        "\n",
        "# Model Evaluation on the validation set\n",
        "val_predictions = model.predict(X_val_scaled)\n",
        "f1_val = accuracy_score(y_val, val_predictions)\n",
        "#print(\"Validation Accuracy:\", f1_val)\n",
        "\n",
        "# Model Evaluation on the test set\n",
        "test_predictions = model.predict(X_test_scaled)\n",
        "f1_test = accuracy_score(y_test, test_predictions)\n",
        "print(\"Test Accuracy:\", f1_test)\n",
        "\n",
        "# Confusion Matrix\n",
        "conf_matrix = confusion_matrix(y_test, test_predictions)\n",
        "\n",
        "# Plot Confusion Matrix\n",
        "disp = ConfusionMatrixDisplay.from_estimator(\n",
        "        model, X_test_scaled, y_test, cmap=plt.cm.Blues, normalize='true'\n",
        "    )\n",
        "disp.ax_.set_title('Normalized Confusion Matrix')\n",
        "plt.show()"
      ],
      "metadata": {
        "id": "VqD8hSphjSdJ",
        "colab": {
          "base_uri": "https://localhost:8080/",
          "height": 524
        },
        "outputId": "bb53da4c-bde0-4ad5-9953-ac0cc197db65"
      },
      "execution_count": null,
      "outputs": [
        {
          "output_type": "stream",
          "name": "stdout",
          "text": [
            "Test Recall: 0.9333333333333333\n",
            "Test F1 Score: 0.8749999999999999\n",
            "Test Accuracy: 0.9111111111111111\n"
          ]
        },
        {
          "output_type": "display_data",
          "data": {
            "text/plain": [
              "<Figure size 640x480 with 2 Axes>"
            ],
            "image/png": "[encoded data removed]"
          },
          "metadata": {}
        }
      ]
    }
  ]
}