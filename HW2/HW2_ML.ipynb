{
  "nbformat": 4,
  "nbformat_minor": 0,
  "metadata": {
    "colab": {
      "provenance": []
    },
    "kernelspec": {
      "name": "python3",
      "display_name": "Python 3"
    },
    "language_info": {
      "name": "python"
    }
  },
  "cells": [
    {
      "cell_type": "code",
      "execution_count": null,
      "metadata": {
        "colab": {
          "base_uri": "https://localhost:8080/"
        },
        "id": "d7GxXNHqjaM7",
        "outputId": "78997c2d-8c18-450b-bc4e-8cf2ed240d0e"
      },
      "outputs": [
        {
          "output_type": "stream",
          "name": "stdout",
          "text": [
            "Mounted at /content/drive\n"
          ]
        }
      ],
      "source": [
        "from google.colab import drive\n",
        "drive.mount('/content/drive')"
      ]
    },
    {
      "cell_type": "code",
      "source": [
        "import numpy as np\n",
        "import csv\n",
        "import matplotlib.pyplot as plt\n",
        "\n",
        "class LogisticRegression:\n",
        "    def __init__(self, learning_rate, num_iterations):\n",
        "        self.learning_rate = learning_rate\n",
        "        self.num_iterations = num_iterations\n",
        "        self.weights = None\n",
        "        self.bias = None\n",
        "        self.costs = []\n",
        "\n",
        "    def softmax(self, z):\n",
        "        exp_z = np.exp(z - np.max(z, axis=1, keepdims=True))\n",
        "        return exp_z / np.sum(exp_z, axis=1, keepdims=True)\n",
        "\n",
        "    def initialize_parameters(self, num_features, num_classes):\n",
        "        # Initialize weights with random values\n",
        "        self.weights = np.random.rand(num_features, num_classes)*0.09\n",
        "        self.bias = -1\n",
        "\n",
        "    def compute_cost(self, h, y):\n",
        "        m = len(y)\n",
        "        cost = (-1 / m) * np.sum(np.sum(y * np.log(h), axis=1))\n",
        "        return cost\n",
        "\n",
        "    def gradient_descent(self, X, y):\n",
        "        m = len(y)\n",
        "        h = self.softmax(np.dot(X, self.weights) + self.bias)\n",
        "        dw = (1 / m) * np.dot(X.T, (h - y))\n",
        "        db = (1 / m) * np.sum(h - y, axis=0, keepdims=True)\n",
        "        self.weights -= self.learning_rate * dw\n",
        "        self.bias -= self.learning_rate * db\n",
        "\n",
        "\n",
        "    def one_hot_encode(self, y, num_classes):\n",
        "        m = len(y)\n",
        "        y_encoded = np.zeros((m, num_classes))\n",
        "        for i in range(m):\n",
        "            y_encoded[i, int(y[i])] = 1\n",
        "        return y_encoded\n",
        "\n",
        "\n",
        "    def fit(self, X, y):\n",
        "        num_features = X.shape[1]\n",
        "        #print(num_features)\n",
        "        num_classes = len(np.unique(y))\n",
        "        self.initialize_parameters(num_features, num_classes)\n",
        "\n",
        "        y_encoded = self.one_hot_encode(y, num_classes)\n",
        "\n",
        "        for i in range(self.num_iterations):\n",
        "            h = self.softmax(np.dot(X, self.weights) + self.bias)\n",
        "            cost = self.compute_cost(h, y_encoded)\n",
        "            self.gradient_descent(X, y_encoded)\n",
        "\n",
        "            if i % 100 == 0:\n",
        "                self.costs.append(cost)\n",
        "                #print(f\"Cost after iteration {i}: {cost}\")\n",
        "\n",
        "    def predict(self, X):\n",
        "        h = self.softmax(np.dot(X, self.weights) + self.bias)\n",
        "        predictions = np.argmax(h, axis=1)\n",
        "        return predictions\n",
        "\n",
        "\n",
        "    def feature_scaling(self, X):\n",
        "         mean = np.mean(X, axis=0)\n",
        "         std = np.std(X, axis=0)\n",
        "         X_scaled = (X - mean) / std\n",
        "         return X_scaled\n",
        "\n",
        "    def plot_costs(self):\n",
        "        plt.plot(range(0, self.num_iterations, 100), self.costs, marker='o')\n",
        "        plt.title('Cost History')\n",
        "        plt.xlabel('Iteration')\n",
        "        plt.ylabel('Cost')\n",
        "        plt.show()"
      ],
      "metadata": {
        "id": "1E2HayGaUjtk"
      },
      "execution_count": null,
      "outputs": []
    },
    {
      "cell_type": "code",
      "source": [
        "#load data from a CSV file\n",
        "def load_data(file_path):\n",
        "    with open(file_path, 'r') as file:\n",
        "        reader = csv.reader(file)\n",
        "        data = list(reader)\n",
        "    return data\n",
        "\n",
        "raw_data = load_data('/content/drive/MyDrive/car_evaluation.csv')\n",
        "\n",
        "# Convert the loaded data to a numpy array\n",
        "data = np.array(raw_data)\n",
        "\n",
        "# Extract features and target variable\n",
        "X = data[:, :-1]\n",
        "y = data[:, -1]\n",
        "\n",
        "# Encode categorical variables\n",
        "X_encoded = np.zeros_like(X, dtype=int)\n",
        "\n",
        "# Specify the order for certain features\n",
        "order_for_buying_maint = {'vhigh': 3, 'high': 2, 'med': 1, 'low': 0}\n",
        "order_for_doors = {'5more': 3, '4': 2, '3': 1, '2': 0}\n",
        "order_for_persons = {'more': 2, '4': 1, '2': 0}\n",
        "order_for_lug_boot = {'big': 2, 'med': 1, 'small': 0}\n",
        "order_for_safety = {'high': 2, 'med': 1, 'low': 0}\n",
        "\n",
        "# Encode features\n",
        "for i in range(X.shape[1]):\n",
        "    unique_values = np.unique(X[:, i])\n",
        "\n",
        "    # Check if the feature requires a specific order\n",
        "    if i == 0 or i == 1:  # buying and maint\n",
        "        for j, value in enumerate(order_for_buying_maint):\n",
        "            X_encoded[:, i][X[:, i] == value] = order_for_buying_maint[value]\n",
        "    elif i == 2:  # doors\n",
        "        for j, value in enumerate(order_for_doors):\n",
        "            X_encoded[:, i][X[:, i] == value] = order_for_doors[value]\n",
        "    elif i == 3:  # persons\n",
        "        for j, value in enumerate(order_for_persons):\n",
        "            X_encoded[:, i][X[:, i] == value] = order_for_persons[value]\n",
        "    elif i == 4:  # lug_boot\n",
        "        for j, value in enumerate(order_for_lug_boot):\n",
        "            X_encoded[:, i][X[:, i] == value] = order_for_lug_boot[value]\n",
        "    elif i == 5:  # safety\n",
        "        for j, value in enumerate(order_for_safety):\n",
        "            X_encoded[:, i][X[:, i] == value] = order_for_safety[value]\n",
        "    else:\n",
        "        for j, value in enumerate(unique_values):\n",
        "            X_encoded[:, i][X[:, i] == value] = j\n",
        "\n",
        "# print(X_encoded[0:5]);\n",
        "# Map string labels to integers for the target variable\n",
        "class_mapping = {'unacc': 0, 'acc': 1, 'good': 2, 'vgood': 3}\n",
        "y_encoded = np.array([class_mapping[label] for label in y])\n",
        "\n",
        "# Create and train the logistic regression model\n",
        "model = LogisticRegression(learning_rate=0.56, num_iterations=5000)\n",
        "\n",
        "# Feature scaling\n",
        "#X_scaled = model.feature_scaling(X_encoded)\n",
        "\n",
        "# Train the model on the entire dataset\n",
        "model.fit(X_encoded, y_encoded)\n",
        "\n",
        "model.plot_costs()\n",
        "\n",
        "# Make predictions on the set\n",
        "predictions = model.predict(X_encoded)\n",
        "# print(predictions[1200:1300])\n",
        "# Evaluate the model on set\n",
        "accuracy = np.mean(predictions == y_encoded)\n",
        "print(f\"Accuracy: {accuracy}\")"
      ],
      "metadata": {
        "colab": {
          "base_uri": "https://localhost:8080/",
          "height": 489
        },
        "id": "HKylQ09p2T5E",
        "outputId": "5f94bd76-05e5-4ea9-b181-e23009dbcb93"
      },
      "execution_count": null,
      "outputs": [
        {
          "output_type": "display_data",
          "data": {
            "text/plain": [
              "<Figure size 640x480 with 1 Axes>"
            ],
            "image/png": "[encoded data removed]"
          },
          "metadata": {}
        },
        {
          "output_type": "stream",
          "name": "stdout",
          "text": [
            "Accuracy: 0.8368055555555556\n"
          ]
        }
      ]
    }
  ]
}